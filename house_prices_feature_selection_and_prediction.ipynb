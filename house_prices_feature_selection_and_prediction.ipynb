{
 "cells": [
  {
   "cell_type": "markdown",
   "id": "85cac60b",
   "metadata": {},
   "source": [
    "# House Prices - Advanced Regression Techniques\n",
    "## Feature Selection and Prediction"
   ]
  },
  {
   "cell_type": "markdown",
   "id": "b77906e5",
   "metadata": {},
   "source": [
    "In this notebook we will perform feature selection on the feature engineered train and test dataset and predict the house prices of the test dataset."
   ]
  },
  {
   "cell_type": "code",
   "execution_count": 26,
   "id": "d067778f",
   "metadata": {},
   "outputs": [],
   "source": [
    "import pandas as pd\n",
    "import numpy as np\n",
    "\n",
    "# For feature slection\n",
    "from sklearn.linear_model import Lasso\n",
    "from sklearn.feature_selection import SelectFromModel\n",
    "\n",
    "# Models for prediction\n",
    "from sklearn.linear_model import LinearRegression\n",
    "from sklearn.linear_model import Lasso\n",
    "from sklearn.linear_model import ElasticNet\n",
    "from sklearn.tree import DecisionTreeRegressor\n",
    "from sklearn.neighbors import KNeighborsRegressor\n",
    "from sklearn.ensemble import GradientBoostingRegressor\n",
    "from sklearn.ensemble import RandomForestRegressor\n",
    "\n",
    "# Model evaluation\n",
    "from sklearn.model_selection import RandomizedSearchCV\n",
    "from sklearn.model_selection import GridSearchCV\n",
    "from sklearn.model_selection import KFold\n",
    "from sklearn.model_selection import cross_val_score\n",
    "from sklearn.metrics import mean_squared_error\n",
    "\n",
    "# to visualise all the columns in the dataframe\n",
    "pd.pandas.set_option('display.max_columns', None)\n",
    "\n",
    "import warnings\n",
    "warnings.filterwarnings(\"ignore\")"
   ]
  },
  {
   "cell_type": "code",
   "execution_count": 2,
   "id": "3ecd5302",
   "metadata": {},
   "outputs": [],
   "source": [
    "# Importing feature engineered train and test csv files\n",
    "dataset_train = pd.read_csv('feature_train.csv')\n",
    "dataset_test = pd.read_csv('feature_test.csv')"
   ]
  },
  {
   "cell_type": "code",
   "execution_count": 3,
   "id": "8c9f60f5",
   "metadata": {},
   "outputs": [
    {
     "data": {
      "text/plain": [
       "SelectFromModel(estimator=Lasso(alpha=0.005, random_state=0))"
      ]
     },
     "execution_count": 3,
     "metadata": {},
     "output_type": "execute_result"
    }
   ],
   "source": [
    "# Using Lasso regression model and selectecting a suitable alpha (equivalent of penalty).\n",
    "# The bigger the alpha the less features that will be selected.\n",
    "\n",
    "# Using the SelectFromModel object from sklearn, which will select the features whose coefficients are non-zero.\n",
    "\n",
    "X_train=dataset_train.drop(['Id','SalePrice'],axis=1)\n",
    "y_train=dataset_train[['SalePrice']]\n",
    "\n",
    "feature_sel_model = SelectFromModel(Lasso(alpha=0.005, random_state=0))\n",
    "feature_sel_model.fit(X_train, y_train)"
   ]
  },
  {
   "cell_type": "code",
   "execution_count": 4,
   "id": "12611fe7",
   "metadata": {},
   "outputs": [
    {
     "data": {
      "text/plain": [
       "array([False,  True, False, False, False, False,  True, False, False,\n",
       "       False, False, False, False, False,  True, False,  True, False,\n",
       "       False,  True, False, False, False, False, False, False,  True,\n",
       "       False, False,  True, False,  True,  True, False, False, False,\n",
       "       False, False, False,  True,  True, False,  True, False, False,\n",
       "        True,  True, False, False, False, False, False,  True, False,\n",
       "       False,  True, False,  True, False,  True,  True,  True, False,\n",
       "       False,  True, False, False, False, False, False, False, False,\n",
       "       False, False, False, False, False, False, False, False, False,\n",
       "       False])"
      ]
     },
     "execution_count": 4,
     "metadata": {},
     "output_type": "execute_result"
    }
   ],
   "source": [
    "feature_sel_model.get_support()"
   ]
  },
  {
   "cell_type": "code",
   "execution_count": 5,
   "id": "36462827",
   "metadata": {},
   "outputs": [
    {
     "name": "stdout",
     "output_type": "stream",
     "text": [
      "Total features: 82\n",
      "Selected features: 21\n",
      "Features with coefficients shrank to zero: 61\n"
     ]
    }
   ],
   "source": [
    "# Printing the number of total and selected features\n",
    "\n",
    "# Making a list of the selected features\n",
    "selected_features = X_train.columns[(feature_sel_model.get_support())]\n",
    "\n",
    "# let's print some stats\n",
    "print('Total features: {}'.format((X_train.shape[1])))\n",
    "print('Selected features: {}'.format(len(selected_features)))\n",
    "print('Features with coefficients shrank to zero: {}'.format(\n",
    "    np.sum(feature_sel_model.estimator_.coef_ == 0)))"
   ]
  },
  {
   "cell_type": "code",
   "execution_count": 6,
   "id": "afc5b05f",
   "metadata": {},
   "outputs": [
    {
     "data": {
      "text/plain": [
       "Index(['MSZoning', 'LotShape', 'BldgType', 'OverallQual', 'YearRemodAdd',\n",
       "       'ExterQual', 'BsmtQual', 'BsmtExposure', 'BsmtFinType1', 'HeatingQC',\n",
       "       'CentralAir', '1stFlrSF', 'GrLivArea', 'BsmtFullBath', 'KitchenQual',\n",
       "       'Fireplaces', 'GarageType', 'GarageFinish', 'GarageCars', 'GarageArea',\n",
       "       'PavedDrive'],\n",
       "      dtype='object')"
      ]
     },
     "execution_count": 6,
     "metadata": {},
     "output_type": "execute_result"
    }
   ],
   "source": [
    "selected_features"
   ]
  },
  {
   "cell_type": "code",
   "execution_count": 7,
   "id": "25d75aec",
   "metadata": {},
   "outputs": [
    {
     "data": {
      "text/html": [
       "<div>\n",
       "<style scoped>\n",
       "    .dataframe tbody tr th:only-of-type {\n",
       "        vertical-align: middle;\n",
       "    }\n",
       "\n",
       "    .dataframe tbody tr th {\n",
       "        vertical-align: top;\n",
       "    }\n",
       "\n",
       "    .dataframe thead th {\n",
       "        text-align: right;\n",
       "    }\n",
       "</style>\n",
       "<table border=\"1\" class=\"dataframe\">\n",
       "  <thead>\n",
       "    <tr style=\"text-align: right;\">\n",
       "      <th></th>\n",
       "      <th>MSZoning</th>\n",
       "      <th>LotShape</th>\n",
       "      <th>BldgType</th>\n",
       "      <th>OverallQual</th>\n",
       "      <th>YearRemodAdd</th>\n",
       "      <th>ExterQual</th>\n",
       "      <th>BsmtQual</th>\n",
       "      <th>BsmtExposure</th>\n",
       "      <th>BsmtFinType1</th>\n",
       "      <th>HeatingQC</th>\n",
       "      <th>CentralAir</th>\n",
       "      <th>1stFlrSF</th>\n",
       "      <th>GrLivArea</th>\n",
       "      <th>BsmtFullBath</th>\n",
       "      <th>KitchenQual</th>\n",
       "      <th>Fireplaces</th>\n",
       "      <th>GarageType</th>\n",
       "      <th>GarageFinish</th>\n",
       "      <th>GarageCars</th>\n",
       "      <th>GarageArea</th>\n",
       "      <th>PavedDrive</th>\n",
       "    </tr>\n",
       "  </thead>\n",
       "  <tbody>\n",
       "    <tr>\n",
       "      <th>0</th>\n",
       "      <td>0.5</td>\n",
       "      <td>1.0</td>\n",
       "      <td>0.0</td>\n",
       "      <td>0.666667</td>\n",
       "      <td>0.112903</td>\n",
       "      <td>0.333333</td>\n",
       "      <td>0.5</td>\n",
       "      <td>1.00</td>\n",
       "      <td>0.333333</td>\n",
       "      <td>0.0</td>\n",
       "      <td>1.0</td>\n",
       "      <td>0.345385</td>\n",
       "      <td>0.577712</td>\n",
       "      <td>0.333333</td>\n",
       "      <td>0.5</td>\n",
       "      <td>0.00</td>\n",
       "      <td>0.0</td>\n",
       "      <td>0.666667</td>\n",
       "      <td>0.4</td>\n",
       "      <td>0.368280</td>\n",
       "      <td>1.0</td>\n",
       "    </tr>\n",
       "    <tr>\n",
       "      <th>1</th>\n",
       "      <td>0.5</td>\n",
       "      <td>1.0</td>\n",
       "      <td>0.0</td>\n",
       "      <td>0.555556</td>\n",
       "      <td>0.532258</td>\n",
       "      <td>1.000000</td>\n",
       "      <td>0.5</td>\n",
       "      <td>0.25</td>\n",
       "      <td>0.000000</td>\n",
       "      <td>0.0</td>\n",
       "      <td>1.0</td>\n",
       "      <td>0.487844</td>\n",
       "      <td>0.470245</td>\n",
       "      <td>0.000000</td>\n",
       "      <td>1.0</td>\n",
       "      <td>0.25</td>\n",
       "      <td>0.0</td>\n",
       "      <td>0.666667</td>\n",
       "      <td>0.4</td>\n",
       "      <td>0.309140</td>\n",
       "      <td>1.0</td>\n",
       "    </tr>\n",
       "    <tr>\n",
       "      <th>2</th>\n",
       "      <td>0.5</td>\n",
       "      <td>0.0</td>\n",
       "      <td>0.0</td>\n",
       "      <td>0.666667</td>\n",
       "      <td>0.129032</td>\n",
       "      <td>0.333333</td>\n",
       "      <td>0.5</td>\n",
       "      <td>0.75</td>\n",
       "      <td>0.333333</td>\n",
       "      <td>0.0</td>\n",
       "      <td>1.0</td>\n",
       "      <td>0.371846</td>\n",
       "      <td>0.593095</td>\n",
       "      <td>0.333333</td>\n",
       "      <td>0.5</td>\n",
       "      <td>0.25</td>\n",
       "      <td>0.0</td>\n",
       "      <td>0.666667</td>\n",
       "      <td>0.4</td>\n",
       "      <td>0.408602</td>\n",
       "      <td>1.0</td>\n",
       "    </tr>\n",
       "    <tr>\n",
       "      <th>3</th>\n",
       "      <td>0.5</td>\n",
       "      <td>0.0</td>\n",
       "      <td>0.0</td>\n",
       "      <td>0.666667</td>\n",
       "      <td>0.612903</td>\n",
       "      <td>1.000000</td>\n",
       "      <td>1.0</td>\n",
       "      <td>1.00</td>\n",
       "      <td>0.000000</td>\n",
       "      <td>0.5</td>\n",
       "      <td>1.0</td>\n",
       "      <td>0.387847</td>\n",
       "      <td>0.579157</td>\n",
       "      <td>0.333333</td>\n",
       "      <td>0.5</td>\n",
       "      <td>0.25</td>\n",
       "      <td>0.6</td>\n",
       "      <td>1.000000</td>\n",
       "      <td>0.6</td>\n",
       "      <td>0.431452</td>\n",
       "      <td>1.0</td>\n",
       "    </tr>\n",
       "    <tr>\n",
       "      <th>4</th>\n",
       "      <td>0.5</td>\n",
       "      <td>0.0</td>\n",
       "      <td>0.0</td>\n",
       "      <td>0.777778</td>\n",
       "      <td>0.161290</td>\n",
       "      <td>0.333333</td>\n",
       "      <td>0.5</td>\n",
       "      <td>0.00</td>\n",
       "      <td>0.333333</td>\n",
       "      <td>0.0</td>\n",
       "      <td>1.0</td>\n",
       "      <td>0.452138</td>\n",
       "      <td>0.666523</td>\n",
       "      <td>0.333333</td>\n",
       "      <td>0.5</td>\n",
       "      <td>0.25</td>\n",
       "      <td>0.0</td>\n",
       "      <td>0.666667</td>\n",
       "      <td>0.6</td>\n",
       "      <td>0.561828</td>\n",
       "      <td>1.0</td>\n",
       "    </tr>\n",
       "  </tbody>\n",
       "</table>\n",
       "</div>"
      ],
      "text/plain": [
       "   MSZoning  LotShape  BldgType  OverallQual  YearRemodAdd  ExterQual  \\\n",
       "0       0.5       1.0       0.0     0.666667      0.112903   0.333333   \n",
       "1       0.5       1.0       0.0     0.555556      0.532258   1.000000   \n",
       "2       0.5       0.0       0.0     0.666667      0.129032   0.333333   \n",
       "3       0.5       0.0       0.0     0.666667      0.612903   1.000000   \n",
       "4       0.5       0.0       0.0     0.777778      0.161290   0.333333   \n",
       "\n",
       "   BsmtQual  BsmtExposure  BsmtFinType1  HeatingQC  CentralAir  1stFlrSF  \\\n",
       "0       0.5          1.00      0.333333        0.0         1.0  0.345385   \n",
       "1       0.5          0.25      0.000000        0.0         1.0  0.487844   \n",
       "2       0.5          0.75      0.333333        0.0         1.0  0.371846   \n",
       "3       1.0          1.00      0.000000        0.5         1.0  0.387847   \n",
       "4       0.5          0.00      0.333333        0.0         1.0  0.452138   \n",
       "\n",
       "   GrLivArea  BsmtFullBath  KitchenQual  Fireplaces  GarageType  GarageFinish  \\\n",
       "0   0.577712      0.333333          0.5        0.00         0.0      0.666667   \n",
       "1   0.470245      0.000000          1.0        0.25         0.0      0.666667   \n",
       "2   0.593095      0.333333          0.5        0.25         0.0      0.666667   \n",
       "3   0.579157      0.333333          0.5        0.25         0.6      1.000000   \n",
       "4   0.666523      0.333333          0.5        0.25         0.0      0.666667   \n",
       "\n",
       "   GarageCars  GarageArea  PavedDrive  \n",
       "0         0.4    0.368280         1.0  \n",
       "1         0.4    0.309140         1.0  \n",
       "2         0.4    0.408602         1.0  \n",
       "3         0.6    0.431452         1.0  \n",
       "4         0.6    0.561828         1.0  "
      ]
     },
     "execution_count": 7,
     "metadata": {},
     "output_type": "execute_result"
    }
   ],
   "source": [
    "X_train = X_train[selected_features]\n",
    "X_train.head()"
   ]
  },
  {
   "cell_type": "markdown",
   "id": "72b6435a",
   "metadata": {},
   "source": [
    "## Model Training"
   ]
  },
  {
   "cell_type": "code",
   "execution_count": 23,
   "id": "b8805c7d",
   "metadata": {},
   "outputs": [],
   "source": [
    "# Putting models in a dictionary\n",
    "models = {\"Linear Regression\": LinearRegression(),\n",
    "          \"Lasso\": Lasso(),\n",
    "          \"Elastic Net\": ElasticNet(),\n",
    "          \"Decision Tree Regressor\": DecisionTreeRegressor(),\n",
    "          \"K Neighbours Regressor\": KNeighborsRegressor(),\n",
    "          \"Gradient Boosting Regressor\": GradientBoostingRegressor(),\n",
    "          \"Random Forest Regressor\": RandomForestRegressor()}\n",
    "\n",
    "def model_selection(models, X_train, y_train):\n",
    "    np.random.seed(0)\n",
    "    model_scores = {}\n",
    "    for name, model in models.items():\n",
    "        kfold = KFold(n_splits=10)\n",
    "        cv_results = cross_val_score(model, X_train, y_train, cv=kfold, n_jobs=-1, verbose=4, scoring='neg_mean_squared_error')\n",
    "        model_scores[name] = cv_results.mean()\n",
    "    return model_scores"
   ]
  },
  {
   "cell_type": "code",
   "execution_count": 24,
   "id": "c497f28c",
   "metadata": {},
   "outputs": [
    {
     "name": "stderr",
     "output_type": "stream",
     "text": [
      "[Parallel(n_jobs=-1)]: Using backend LokyBackend with 8 concurrent workers.\n",
      "[Parallel(n_jobs=-1)]: Done   4 out of  10 | elapsed:    0.0s remaining:    0.0s\n",
      "[Parallel(n_jobs=-1)]: Done   7 out of  10 | elapsed:    0.0s remaining:    0.0s\n",
      "[Parallel(n_jobs=-1)]: Done  10 out of  10 | elapsed:    0.1s remaining:    0.0s\n",
      "[Parallel(n_jobs=-1)]: Done  10 out of  10 | elapsed:    0.1s finished\n",
      "[Parallel(n_jobs=-1)]: Using backend LokyBackend with 8 concurrent workers.\n",
      "[Parallel(n_jobs=-1)]: Done   4 out of  10 | elapsed:    0.0s remaining:    0.0s\n",
      "[Parallel(n_jobs=-1)]: Done   7 out of  10 | elapsed:    0.0s remaining:    0.0s\n",
      "[Parallel(n_jobs=-1)]: Done  10 out of  10 | elapsed:    0.0s remaining:    0.0s\n",
      "[Parallel(n_jobs=-1)]: Done  10 out of  10 | elapsed:    0.0s finished\n",
      "[Parallel(n_jobs=-1)]: Using backend LokyBackend with 8 concurrent workers.\n",
      "[Parallel(n_jobs=-1)]: Done   4 out of  10 | elapsed:    1.0s remaining:    1.6s\n",
      "[Parallel(n_jobs=-1)]: Done   7 out of  10 | elapsed:    1.0s remaining:    0.4s\n",
      "[Parallel(n_jobs=-1)]: Done  10 out of  10 | elapsed:    1.2s remaining:    0.0s\n",
      "[Parallel(n_jobs=-1)]: Done  10 out of  10 | elapsed:    1.2s finished\n",
      "[Parallel(n_jobs=-1)]: Using backend LokyBackend with 8 concurrent workers.\n",
      "[Parallel(n_jobs=-1)]: Done   4 out of  10 | elapsed:    0.0s remaining:    0.0s\n",
      "[Parallel(n_jobs=-1)]: Done   7 out of  10 | elapsed:    0.0s remaining:    0.0s\n",
      "[Parallel(n_jobs=-1)]: Done  10 out of  10 | elapsed:    0.1s remaining:    0.0s\n",
      "[Parallel(n_jobs=-1)]: Done  10 out of  10 | elapsed:    0.1s finished\n",
      "[Parallel(n_jobs=-1)]: Using backend LokyBackend with 8 concurrent workers.\n",
      "[Parallel(n_jobs=-1)]: Done   4 out of  10 | elapsed:    0.0s remaining:    0.1s\n",
      "[Parallel(n_jobs=-1)]: Done   7 out of  10 | elapsed:    0.0s remaining:    0.0s\n",
      "[Parallel(n_jobs=-1)]: Done  10 out of  10 | elapsed:    0.1s remaining:    0.0s\n",
      "[Parallel(n_jobs=-1)]: Done  10 out of  10 | elapsed:    0.1s finished\n",
      "[Parallel(n_jobs=-1)]: Using backend LokyBackend with 8 concurrent workers.\n",
      "[Parallel(n_jobs=-1)]: Done   4 out of  10 | elapsed:    0.4s remaining:    0.7s\n",
      "[Parallel(n_jobs=-1)]: Done   7 out of  10 | elapsed:    0.5s remaining:    0.1s\n",
      "[Parallel(n_jobs=-1)]: Done  10 out of  10 | elapsed:    0.8s remaining:    0.0s\n",
      "[Parallel(n_jobs=-1)]: Done  10 out of  10 | elapsed:    0.8s finished\n",
      "[Parallel(n_jobs=-1)]: Using backend LokyBackend with 8 concurrent workers.\n",
      "[Parallel(n_jobs=-1)]: Done   4 out of  10 | elapsed:    1.2s remaining:    1.9s\n",
      "[Parallel(n_jobs=-1)]: Done   7 out of  10 | elapsed:    1.3s remaining:    0.5s\n",
      "[Parallel(n_jobs=-1)]: Done  10 out of  10 | elapsed:    2.6s remaining:    0.0s\n",
      "[Parallel(n_jobs=-1)]: Done  10 out of  10 | elapsed:    2.6s finished\n"
     ]
    },
    {
     "data": {
      "text/plain": [
       "{'Linear Regression': -0.0211478718968292,\n",
       " 'Lasso': -0.15965699341266254,\n",
       " 'Elastic Net': -0.15965699341266254,\n",
       " 'Decision Tree Regressor': -0.042390368376733836,\n",
       " 'K Neighbours Regressor': -0.04217416071148981,\n",
       " 'Gradient Boosting Regressor': -0.018636555755007264,\n",
       " 'Random Forest Regressor': -0.021742510474728482}"
      ]
     },
     "execution_count": 24,
     "metadata": {},
     "output_type": "execute_result"
    }
   ],
   "source": [
    "model_scores = model_selection(models=models,\n",
    "                               X_train=X_train,\n",
    "                               y_train=y_train)\n",
    "model_scores"
   ]
  },
  {
   "cell_type": "markdown",
   "id": "9460bbee",
   "metadata": {},
   "source": [
    "From the above output it is clear that Gradient Boosting Regressor performs the best. Therefore using the same model to train the model and tuning hyperparameters."
   ]
  },
  {
   "cell_type": "markdown",
   "id": "af5ca0e6",
   "metadata": {},
   "source": [
    "### Hyperparameter tuning with RandomizedSearchCV"
   ]
  },
  {
   "cell_type": "code",
   "execution_count": 27,
   "id": "95292421",
   "metadata": {},
   "outputs": [
    {
     "name": "stdout",
     "output_type": "stream",
     "text": [
      "Fitting 5 folds for each of 100 candidates, totalling 500 fits\n",
      "Wall time: 11min 35s\n",
      "Parser   : 240 ms\n"
     ]
    },
    {
     "data": {
      "text/plain": [
       "RandomizedSearchCV(cv=5, estimator=GradientBoostingRegressor(), n_iter=100,\n",
       "                   n_jobs=-1,\n",
       "                   param_distributions={'learning_rate': [0.0001, 0.001, 0.01,\n",
       "                                                          0.1, 0.2, 0.3],\n",
       "                                        'max_depth': [10, 120, 230, 340, 450,\n",
       "                                                      560, 670, 780, 890,\n",
       "                                                      1000],\n",
       "                                        'max_features': ['auto', 'sqrt',\n",
       "                                                         'log2'],\n",
       "                                        'min_samples_leaf': [1, 2, 4, 6, 8, 10],\n",
       "                                        'min_samples_split': [1, 3, 4, 5, 7, 9,\n",
       "                                                              10],\n",
       "                                        'n_estimators': [200, 400, 600, 800,\n",
       "                                                         1000, 1200, 1400, 1600,\n",
       "                                                         1800, 2000]},\n",
       "                   random_state=0, verbose=True)"
      ]
     },
     "execution_count": 27,
     "metadata": {},
     "output_type": "execute_result"
    }
   ],
   "source": [
    "%%time\n",
    "\n",
    "# Setting up hyperparameters\n",
    "n_estimators = [int(x) for x in np.linspace(start = 200, stop = 2000, num = 10)]\n",
    "max_features = ['auto', 'sqrt','log2']\n",
    "learning_rate = [0.0001, 0.001, 0.01, 0.1, 0.2, 0.3]\n",
    "max_depth = [int(x) for x in np.linspace(10,1000,10)]\n",
    "min_samples_split = [1, 3, 4, 5, 7, 9, 10]\n",
    "min_samples_leaf = [1, 2, 4, 6, 8, 10]\n",
    "\n",
    "# Creating the random grid\n",
    "random_grid = {'n_estimators': n_estimators,\n",
    "               'max_features': max_features,\n",
    "               'learning_rate': learning_rate,\n",
    "               'max_depth': max_depth,\n",
    "               'min_samples_split': min_samples_split,\n",
    "               'min_samples_leaf': min_samples_leaf}\n",
    "\n",
    "# Instantinate RandomizedSearchCV model\n",
    "rs_model = RandomizedSearchCV(estimator=GradientBoostingRegressor(),\n",
    "                             param_distributions=random_grid,\n",
    "                             n_iter=100, cv=5, verbose=True,\n",
    "                             random_state=0, n_jobs=-1)\n",
    " \n",
    "# Fitting the RandomizedSearchCV model\n",
    "rs_model.fit(X_train, y_train)"
   ]
  },
  {
   "cell_type": "code",
   "execution_count": 28,
   "id": "c446aaa9",
   "metadata": {},
   "outputs": [
    {
     "data": {
      "text/plain": [
       "{'n_estimators': 1600,\n",
       " 'min_samples_split': 10,\n",
       " 'min_samples_leaf': 6,\n",
       " 'max_features': 'sqrt',\n",
       " 'max_depth': 1000,\n",
       " 'learning_rate': 0.01}"
      ]
     },
     "execution_count": 28,
     "metadata": {},
     "output_type": "execute_result"
    }
   ],
   "source": [
    "rs_model.best_params_"
   ]
  },
  {
   "cell_type": "markdown",
   "id": "2a6d74be",
   "metadata": {},
   "source": [
    "### Hyperparameter tuning with GridSearchCV\n",
    "Now on the basis of best parameters obtained in RandomizedSearchCV, tuning hyperparameters using GridSearchCV."
   ]
  },
  {
   "cell_type": "code",
   "execution_count": 33,
   "id": "8f61c00a",
   "metadata": {},
   "outputs": [
    {
     "name": "stdout",
     "output_type": "stream",
     "text": [
      "Fitting 10 folds for each of 1125 candidates, totalling 11250 fits\n",
      "Wall time: 4h 9min 8s\n"
     ]
    },
    {
     "data": {
      "text/plain": [
       "GridSearchCV(cv=10, estimator=GradientBoostingRegressor(), n_jobs=-1,\n",
       "             param_grid={'learning_rate': [0.0025, 0.005, 0.01, 0.02, 0.04],\n",
       "                         'max_depth': [800, 900, 1000, 1100, 1200],\n",
       "                         'max_features': ['sqrt'],\n",
       "                         'min_samples_leaf': [5, 6, 7],\n",
       "                         'min_samples_split': [9, 10, 11],\n",
       "                         'n_estimators': [1400, 1500, 1600, 1700, 1800]},\n",
       "             verbose=True)"
      ]
     },
     "execution_count": 33,
     "metadata": {},
     "output_type": "execute_result"
    }
   ],
   "source": [
    "%%time\n",
    "\n",
    "# Setting up hyperparameters\n",
    "grid_search = {\n",
    "    'n_estimators': [rs_model.best_params_['n_estimators']-200,\n",
    "                     rs_model.best_params_['n_estimators']-100, \n",
    "                     rs_model.best_params_['n_estimators'], \n",
    "                     rs_model.best_params_['n_estimators']+100,\n",
    "                     rs_model.best_params_['n_estimators']+200],\n",
    "    'max_features': [rs_model.best_params_['max_features']],\n",
    "    'learning_rate': [rs_model.best_params_['learning_rate']/4,\n",
    "                      rs_model.best_params_['learning_rate']/2,\n",
    "                      rs_model.best_params_['learning_rate'], \n",
    "                      rs_model.best_params_['learning_rate']*2,\n",
    "                      rs_model.best_params_['learning_rate']*4],\n",
    "    'max_depth': [rs_model.best_params_['max_depth']-200,\n",
    "                  rs_model.best_params_['max_depth']-100, \n",
    "                  rs_model.best_params_['max_depth'], \n",
    "                  rs_model.best_params_['max_depth']+100,\n",
    "                  rs_model.best_params_['max_depth']+200],\n",
    "    'min_samples_split': [rs_model.best_params_['min_samples_split']-1,\n",
    "                          rs_model.best_params_['min_samples_split'], \n",
    "                          rs_model.best_params_['min_samples_split']+1],\n",
    "    'min_samples_leaf': [rs_model.best_params_['min_samples_leaf']-1,\n",
    "                         rs_model.best_params_['min_samples_leaf'], \n",
    "                         rs_model.best_params_['min_samples_leaf']+1]}\n",
    "\n",
    "# Instantinate GridSearchCV model\n",
    "gs_model = GridSearchCV(estimator=GradientBoostingRegressor(),\n",
    "                         param_grid=grid_search,\n",
    "                         cv=10, n_jobs=-1, verbose=True)\n",
    "\n",
    "# Fitting the GridSearchCV model\n",
    "gs_model.fit(X_train, y_train)"
   ]
  },
  {
   "cell_type": "code",
   "execution_count": 34,
   "id": "f55d546e",
   "metadata": {},
   "outputs": [
    {
     "data": {
      "text/plain": [
       "{'learning_rate': 0.005,\n",
       " 'max_depth': 800,\n",
       " 'max_features': 'sqrt',\n",
       " 'min_samples_leaf': 6,\n",
       " 'min_samples_split': 9,\n",
       " 'n_estimators': 1400}"
      ]
     },
     "execution_count": 34,
     "metadata": {},
     "output_type": "execute_result"
    }
   ],
   "source": [
    "gs_model.best_params_"
   ]
  },
  {
   "cell_type": "code",
   "execution_count": 42,
   "id": "fd5cba3e",
   "metadata": {},
   "outputs": [],
   "source": [
    "# Applying feature selection on test data\n",
    "X_test = pd.DataFrame()\n",
    "train_features = X_train.columns\n",
    "for feature in train_features:\n",
    "    X_test[feature] = dataset_test[feature]"
   ]
  },
  {
   "cell_type": "code",
   "execution_count": 43,
   "id": "1e46e4ec",
   "metadata": {},
   "outputs": [
    {
     "data": {
      "text/html": [
       "<div>\n",
       "<style scoped>\n",
       "    .dataframe tbody tr th:only-of-type {\n",
       "        vertical-align: middle;\n",
       "    }\n",
       "\n",
       "    .dataframe tbody tr th {\n",
       "        vertical-align: top;\n",
       "    }\n",
       "\n",
       "    .dataframe thead th {\n",
       "        text-align: right;\n",
       "    }\n",
       "</style>\n",
       "<table border=\"1\" class=\"dataframe\">\n",
       "  <thead>\n",
       "    <tr style=\"text-align: right;\">\n",
       "      <th></th>\n",
       "      <th>Id</th>\n",
       "      <th>SalePrice</th>\n",
       "    </tr>\n",
       "  </thead>\n",
       "  <tbody>\n",
       "    <tr>\n",
       "      <th>0</th>\n",
       "      <td>1461</td>\n",
       "      <td>11.654291</td>\n",
       "    </tr>\n",
       "    <tr>\n",
       "      <th>1</th>\n",
       "      <td>1462</td>\n",
       "      <td>11.849000</td>\n",
       "    </tr>\n",
       "    <tr>\n",
       "      <th>2</th>\n",
       "      <td>1463</td>\n",
       "      <td>12.041664</td>\n",
       "    </tr>\n",
       "    <tr>\n",
       "      <th>3</th>\n",
       "      <td>1464</td>\n",
       "      <td>12.119565</td>\n",
       "    </tr>\n",
       "    <tr>\n",
       "      <th>4</th>\n",
       "      <td>1465</td>\n",
       "      <td>12.153038</td>\n",
       "    </tr>\n",
       "    <tr>\n",
       "      <th>...</th>\n",
       "      <td>...</td>\n",
       "      <td>...</td>\n",
       "    </tr>\n",
       "    <tr>\n",
       "      <th>1454</th>\n",
       "      <td>2915</td>\n",
       "      <td>11.287426</td>\n",
       "    </tr>\n",
       "    <tr>\n",
       "      <th>1455</th>\n",
       "      <td>2916</td>\n",
       "      <td>11.337426</td>\n",
       "    </tr>\n",
       "    <tr>\n",
       "      <th>1456</th>\n",
       "      <td>2917</td>\n",
       "      <td>11.901501</td>\n",
       "    </tr>\n",
       "    <tr>\n",
       "      <th>1457</th>\n",
       "      <td>2918</td>\n",
       "      <td>11.577293</td>\n",
       "    </tr>\n",
       "    <tr>\n",
       "      <th>1458</th>\n",
       "      <td>2919</td>\n",
       "      <td>12.295072</td>\n",
       "    </tr>\n",
       "  </tbody>\n",
       "</table>\n",
       "<p>1459 rows × 2 columns</p>\n",
       "</div>"
      ],
      "text/plain": [
       "        Id  SalePrice\n",
       "0     1461  11.654291\n",
       "1     1462  11.849000\n",
       "2     1463  12.041664\n",
       "3     1464  12.119565\n",
       "4     1465  12.153038\n",
       "...    ...        ...\n",
       "1454  2915  11.287426\n",
       "1455  2916  11.337426\n",
       "1456  2917  11.901501\n",
       "1457  2918  11.577293\n",
       "1458  2919  12.295072\n",
       "\n",
       "[1459 rows x 2 columns]"
      ]
     },
     "execution_count": 43,
     "metadata": {},
     "output_type": "execute_result"
    }
   ],
   "source": [
    "# Using best params for test predictions\n",
    "ideal_model=gs_model.best_estimator_\n",
    "\n",
    "# Making predictions on the test data\n",
    "y_preds = ideal_model.predict(X_test)\n",
    "\n",
    "# Format predictions into the same format Kaggle is after\n",
    "df_preds = pd.DataFrame()\n",
    "df_preds[\"Id\"] = dataset_test[\"Id\"]\n",
    "df_preds[\"SalePrice\"] = y_preds\n",
    "df_preds"
   ]
  },
  {
   "cell_type": "code",
   "execution_count": 46,
   "id": "44061133",
   "metadata": {},
   "outputs": [],
   "source": [
    "# Export predicted data as required by Kaggle\n",
    "df_preds.to_csv(\"submission.csv\", index=False)"
   ]
  }
 ],
 "metadata": {
  "kernelspec": {
   "display_name": "Python 3",
   "language": "python",
   "name": "python3"
  },
  "language_info": {
   "codemirror_mode": {
    "name": "ipython",
    "version": 3
   },
   "file_extension": ".py",
   "mimetype": "text/x-python",
   "name": "python",
   "nbconvert_exporter": "python",
   "pygments_lexer": "ipython3",
   "version": "3.9.4"
  }
 },
 "nbformat": 4,
 "nbformat_minor": 5
}
